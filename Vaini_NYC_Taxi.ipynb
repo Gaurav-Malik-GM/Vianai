{
  "nbformat": 4,
  "nbformat_minor": 0,
  "metadata": {
    "colab": {
      "name": "Vaini NYC Taxi.ipynb",
      "provenance": [],
      "collapsed_sections": [
        "hQpfIPfilrBb",
        "YFMLf9ubnOwp",
        "w7b4zQCSnIht",
        "e4W0JTfar5bS",
        "hyJYxniLCB4r",
        "Hc__2KFMWqKn"
      ]
    },
    "kernelspec": {
      "name": "python3",
      "display_name": "Python 3"
    }
  },
  "cells": [
    {
      "cell_type": "markdown",
      "metadata": {
        "id": "hQpfIPfilrBb",
        "colab_type": "text"
      },
      "source": [
        "# Import Libraries"
      ]
    },
    {
      "cell_type": "code",
      "metadata": {
        "id": "wK-s1sfQWwHa",
        "colab_type": "code",
        "colab": {
          "base_uri": "https://localhost:8080/",
          "height": 71
        },
        "outputId": "0ef5bae9-831a-4745-97c6-7f696dca513a"
      },
      "source": [
        "import numpy as np\n",
        "import pandas as pd\n",
        "import matplotlib.pyplot as plt\n",
        "import seaborn as sns\n",
        "import datetime \n",
        "import time\n",
        "from sklearn.ensemble import GradientBoostingRegressor as GBR\n",
        "from sklearn.metrics import mean_squared_error\n",
        "from sklearn.model_selection import train_test_split\n"
      ],
      "execution_count": 2,
      "outputs": [
        {
          "output_type": "stream",
          "text": [
            "/usr/local/lib/python3.6/dist-packages/statsmodels/tools/_testing.py:19: FutureWarning: pandas.util.testing is deprecated. Use the functions in the public API at pandas.testing instead.\n",
            "  import pandas.util.testing as tm\n"
          ],
          "name": "stderr"
        }
      ]
    },
    {
      "cell_type": "markdown",
      "metadata": {
        "id": "YFMLf9ubnOwp",
        "colab_type": "text"
      },
      "source": [
        "# NYC Green Taxi File Download and Characteristics\n",
        "\n",
        "Programatically download data from URL Directly. While ingesting data from URL, it was identified that data is not clean in the URL. Other charachteristics of data also observed in this section:\n",
        "\n",
        "o Mismatch in column names and underlying data\n",
        "\n",
        "o Wrong Indexing of Data\n",
        "\n",
        "o Data is of Taxi trips where file maintains record of trip start/end timing Pickup/DropOff Locations, and underlying expenses during trip (Trip Amount, Distance, Tips, Trip, Tax, etc). \n",
        "\n",
        "o Along this notebook we will create few additional columns in the dataframe for our calculations. \n",
        "\n"
      ]
    },
    {
      "cell_type": "code",
      "metadata": {
        "id": "wGf0Pj4zec6W",
        "colab_type": "code",
        "colab": {}
      },
      "source": [
        "#reading from url option 1\n",
        "df = pd.read_csv(\"https://s3.amazonaws.com/nyc-tlc/trip+data/green_tripdata_2016-11.csv\")\n",
        "##this gives error as data has two extra cols.. it considers first two col as index"
      ],
      "execution_count": 0,
      "outputs": []
    },
    {
      "cell_type": "code",
      "metadata": {
        "id": "rj_muIXllfzS",
        "colab_type": "code",
        "colab": {
          "base_uri": "https://localhost:8080/",
          "height": 394
        },
        "outputId": "63be7286-0758-4766-f59e-e0f8d4d13c18"
      },
      "source": [
        "df.head() #reads dataframe data, we can see how header rows are not matching with data"
      ],
      "execution_count": 4,
      "outputs": [
        {
          "output_type": "execute_result",
          "data": {
            "text/html": [
              "<div>\n",
              "<style scoped>\n",
              "    .dataframe tbody tr th:only-of-type {\n",
              "        vertical-align: middle;\n",
              "    }\n",
              "\n",
              "    .dataframe tbody tr th {\n",
              "        vertical-align: top;\n",
              "    }\n",
              "\n",
              "    .dataframe thead th {\n",
              "        text-align: right;\n",
              "    }\n",
              "</style>\n",
              "<table border=\"1\" class=\"dataframe\">\n",
              "  <thead>\n",
              "    <tr style=\"text-align: right;\">\n",
              "      <th></th>\n",
              "      <th></th>\n",
              "      <th>VendorID</th>\n",
              "      <th>lpep_pickup_datetime</th>\n",
              "      <th>lpep_dropoff_datetime</th>\n",
              "      <th>store_and_fwd_flag</th>\n",
              "      <th>RatecodeID</th>\n",
              "      <th>PULocationID</th>\n",
              "      <th>DOLocationID</th>\n",
              "      <th>passenger_count</th>\n",
              "      <th>trip_distance</th>\n",
              "      <th>fare_amount</th>\n",
              "      <th>extra</th>\n",
              "      <th>mta_tax</th>\n",
              "      <th>tip_amount</th>\n",
              "      <th>tolls_amount</th>\n",
              "      <th>ehail_fee</th>\n",
              "      <th>improvement_surcharge</th>\n",
              "      <th>total_amount</th>\n",
              "      <th>payment_type</th>\n",
              "      <th>trip_type</th>\n",
              "    </tr>\n",
              "  </thead>\n",
              "  <tbody>\n",
              "    <tr>\n",
              "      <th rowspan=\"5\" valign=\"top\">2</th>\n",
              "      <th>2016-11-01 00:39:48</th>\n",
              "      <td>2016-11-01 00:50:48</td>\n",
              "      <td>N</td>\n",
              "      <td>1</td>\n",
              "      <td>256</td>\n",
              "      <td>97</td>\n",
              "      <td>2</td>\n",
              "      <td>2.85</td>\n",
              "      <td>11.0</td>\n",
              "      <td>0.5</td>\n",
              "      <td>0.5</td>\n",
              "      <td>0.00</td>\n",
              "      <td>0.0</td>\n",
              "      <td>NaN</td>\n",
              "      <td>0.3</td>\n",
              "      <td>12.30</td>\n",
              "      <td>2</td>\n",
              "      <td>1.0</td>\n",
              "      <td>NaN</td>\n",
              "      <td>NaN</td>\n",
              "    </tr>\n",
              "    <tr>\n",
              "      <th>2016-11-01 00:28:30</th>\n",
              "      <td>2016-11-01 00:40:44</td>\n",
              "      <td>N</td>\n",
              "      <td>1</td>\n",
              "      <td>92</td>\n",
              "      <td>223</td>\n",
              "      <td>1</td>\n",
              "      <td>6.20</td>\n",
              "      <td>19.0</td>\n",
              "      <td>0.5</td>\n",
              "      <td>0.5</td>\n",
              "      <td>0.00</td>\n",
              "      <td>0.0</td>\n",
              "      <td>NaN</td>\n",
              "      <td>0.3</td>\n",
              "      <td>20.30</td>\n",
              "      <td>2</td>\n",
              "      <td>1.0</td>\n",
              "      <td>NaN</td>\n",
              "      <td>NaN</td>\n",
              "    </tr>\n",
              "    <tr>\n",
              "      <th>2016-11-01 00:03:45</th>\n",
              "      <td>2016-11-01 00:13:07</td>\n",
              "      <td>N</td>\n",
              "      <td>1</td>\n",
              "      <td>255</td>\n",
              "      <td>17</td>\n",
              "      <td>1</td>\n",
              "      <td>1.68</td>\n",
              "      <td>8.5</td>\n",
              "      <td>0.5</td>\n",
              "      <td>0.5</td>\n",
              "      <td>1.25</td>\n",
              "      <td>0.0</td>\n",
              "      <td>NaN</td>\n",
              "      <td>0.3</td>\n",
              "      <td>11.05</td>\n",
              "      <td>1</td>\n",
              "      <td>1.0</td>\n",
              "      <td>NaN</td>\n",
              "      <td>NaN</td>\n",
              "    </tr>\n",
              "    <tr>\n",
              "      <th>2016-11-01 00:45:48</th>\n",
              "      <td>2016-11-01 01:00:43</td>\n",
              "      <td>N</td>\n",
              "      <td>1</td>\n",
              "      <td>97</td>\n",
              "      <td>89</td>\n",
              "      <td>1</td>\n",
              "      <td>4.14</td>\n",
              "      <td>14.5</td>\n",
              "      <td>0.5</td>\n",
              "      <td>0.5</td>\n",
              "      <td>0.00</td>\n",
              "      <td>0.0</td>\n",
              "      <td>NaN</td>\n",
              "      <td>0.3</td>\n",
              "      <td>15.80</td>\n",
              "      <td>1</td>\n",
              "      <td>1.0</td>\n",
              "      <td>NaN</td>\n",
              "      <td>NaN</td>\n",
              "    </tr>\n",
              "    <tr>\n",
              "      <th>2016-11-01 00:27:21</th>\n",
              "      <td>2016-11-01 00:32:53</td>\n",
              "      <td>N</td>\n",
              "      <td>1</td>\n",
              "      <td>95</td>\n",
              "      <td>93</td>\n",
              "      <td>1</td>\n",
              "      <td>1.34</td>\n",
              "      <td>6.5</td>\n",
              "      <td>0.5</td>\n",
              "      <td>0.5</td>\n",
              "      <td>2.00</td>\n",
              "      <td>0.0</td>\n",
              "      <td>NaN</td>\n",
              "      <td>0.3</td>\n",
              "      <td>9.80</td>\n",
              "      <td>1</td>\n",
              "      <td>1.0</td>\n",
              "      <td>NaN</td>\n",
              "      <td>NaN</td>\n",
              "    </tr>\n",
              "  </tbody>\n",
              "</table>\n",
              "</div>"
            ],
            "text/plain": [
              "                                  VendorID  ... trip_type\n",
              "2 2016-11-01 00:39:48  2016-11-01 00:50:48  ...       NaN\n",
              "  2016-11-01 00:28:30  2016-11-01 00:40:44  ...       NaN\n",
              "  2016-11-01 00:03:45  2016-11-01 00:13:07  ...       NaN\n",
              "  2016-11-01 00:45:48  2016-11-01 01:00:43  ...       NaN\n",
              "  2016-11-01 00:27:21  2016-11-01 00:32:53  ...       NaN\n",
              "\n",
              "[5 rows x 19 columns]"
            ]
          },
          "metadata": {
            "tags": []
          },
          "execution_count": 4
        }
      ]
    },
    {
      "cell_type": "code",
      "metadata": {
        "id": "dXbQK1JzjvfN",
        "colab_type": "code",
        "colab": {}
      },
      "source": [
        "# option 2\n",
        "# reading head seperately for col names.. and readind data again with skipping col names\n",
        "col = pd.read_csv(\"https://s3.amazonaws.com/nyc-tlc/trip+data/green_tripdata_2016-12.csv\",nrows=0)\n",
        "#col dataframe now has only 1st row from data file which contains only header, now we will read the column names and assign those columns names\n",
        "\n",
        "#reading the data with range of column\n",
        "num_of_cols = len(col.columns)\n",
        "df = pd.read_csv(\"https://s3.amazonaws.com/nyc-tlc/trip+data/green_tripdata_2016-12.csv\",usecols=range(num_of_cols))\n",
        "#df dataframe is now modified so our column names and underlying data is correctly structured."
      ],
      "execution_count": 0,
      "outputs": []
    },
    {
      "cell_type": "code",
      "metadata": {
        "id": "dxFzw-cwjWOT",
        "colab_type": "code",
        "colab": {
          "base_uri": "https://localhost:8080/",
          "height": 224
        },
        "outputId": "34fcf5c8-2719-4c66-8b12-36da3a7e48cc"
      },
      "source": [
        "df.head() #now dataframe is correct and we can see headers and underlying data correctly aligned.\n"
      ],
      "execution_count": 6,
      "outputs": [
        {
          "output_type": "execute_result",
          "data": {
            "text/html": [
              "<div>\n",
              "<style scoped>\n",
              "    .dataframe tbody tr th:only-of-type {\n",
              "        vertical-align: middle;\n",
              "    }\n",
              "\n",
              "    .dataframe tbody tr th {\n",
              "        vertical-align: top;\n",
              "    }\n",
              "\n",
              "    .dataframe thead th {\n",
              "        text-align: right;\n",
              "    }\n",
              "</style>\n",
              "<table border=\"1\" class=\"dataframe\">\n",
              "  <thead>\n",
              "    <tr style=\"text-align: right;\">\n",
              "      <th></th>\n",
              "      <th>VendorID</th>\n",
              "      <th>lpep_pickup_datetime</th>\n",
              "      <th>lpep_dropoff_datetime</th>\n",
              "      <th>store_and_fwd_flag</th>\n",
              "      <th>RatecodeID</th>\n",
              "      <th>PULocationID</th>\n",
              "      <th>DOLocationID</th>\n",
              "      <th>passenger_count</th>\n",
              "      <th>trip_distance</th>\n",
              "      <th>fare_amount</th>\n",
              "      <th>extra</th>\n",
              "      <th>mta_tax</th>\n",
              "      <th>tip_amount</th>\n",
              "      <th>tolls_amount</th>\n",
              "      <th>ehail_fee</th>\n",
              "      <th>improvement_surcharge</th>\n",
              "      <th>total_amount</th>\n",
              "      <th>payment_type</th>\n",
              "      <th>trip_type</th>\n",
              "    </tr>\n",
              "  </thead>\n",
              "  <tbody>\n",
              "    <tr>\n",
              "      <th>0</th>\n",
              "      <td>2</td>\n",
              "      <td>2016-12-01 00:00:54</td>\n",
              "      <td>2016-12-01 00:06:54</td>\n",
              "      <td>N</td>\n",
              "      <td>1</td>\n",
              "      <td>92</td>\n",
              "      <td>192</td>\n",
              "      <td>1</td>\n",
              "      <td>1.29</td>\n",
              "      <td>6.5</td>\n",
              "      <td>0.5</td>\n",
              "      <td>0.5</td>\n",
              "      <td>0.00</td>\n",
              "      <td>0.0</td>\n",
              "      <td>NaN</td>\n",
              "      <td>0.3</td>\n",
              "      <td>7.80</td>\n",
              "      <td>2</td>\n",
              "      <td>1</td>\n",
              "    </tr>\n",
              "    <tr>\n",
              "      <th>1</th>\n",
              "      <td>2</td>\n",
              "      <td>2016-12-01 00:52:41</td>\n",
              "      <td>2016-12-01 00:54:51</td>\n",
              "      <td>N</td>\n",
              "      <td>1</td>\n",
              "      <td>92</td>\n",
              "      <td>171</td>\n",
              "      <td>1</td>\n",
              "      <td>0.64</td>\n",
              "      <td>4.0</td>\n",
              "      <td>0.5</td>\n",
              "      <td>0.5</td>\n",
              "      <td>1.06</td>\n",
              "      <td>0.0</td>\n",
              "      <td>NaN</td>\n",
              "      <td>0.3</td>\n",
              "      <td>6.36</td>\n",
              "      <td>1</td>\n",
              "      <td>1</td>\n",
              "    </tr>\n",
              "    <tr>\n",
              "      <th>2</th>\n",
              "      <td>2</td>\n",
              "      <td>2016-12-01 00:10:39</td>\n",
              "      <td>2016-12-01 00:14:47</td>\n",
              "      <td>N</td>\n",
              "      <td>1</td>\n",
              "      <td>75</td>\n",
              "      <td>238</td>\n",
              "      <td>2</td>\n",
              "      <td>0.89</td>\n",
              "      <td>5.5</td>\n",
              "      <td>0.5</td>\n",
              "      <td>0.5</td>\n",
              "      <td>1.70</td>\n",
              "      <td>0.0</td>\n",
              "      <td>NaN</td>\n",
              "      <td>0.3</td>\n",
              "      <td>8.50</td>\n",
              "      <td>1</td>\n",
              "      <td>1</td>\n",
              "    </tr>\n",
              "    <tr>\n",
              "      <th>3</th>\n",
              "      <td>2</td>\n",
              "      <td>2016-12-01 00:12:16</td>\n",
              "      <td>2016-12-01 00:15:31</td>\n",
              "      <td>N</td>\n",
              "      <td>1</td>\n",
              "      <td>166</td>\n",
              "      <td>151</td>\n",
              "      <td>1</td>\n",
              "      <td>0.66</td>\n",
              "      <td>4.5</td>\n",
              "      <td>0.5</td>\n",
              "      <td>0.5</td>\n",
              "      <td>1.74</td>\n",
              "      <td>0.0</td>\n",
              "      <td>NaN</td>\n",
              "      <td>0.3</td>\n",
              "      <td>7.54</td>\n",
              "      <td>1</td>\n",
              "      <td>1</td>\n",
              "    </tr>\n",
              "    <tr>\n",
              "      <th>4</th>\n",
              "      <td>2</td>\n",
              "      <td>2016-12-01 00:29:22</td>\n",
              "      <td>2016-12-01 00:39:51</td>\n",
              "      <td>N</td>\n",
              "      <td>1</td>\n",
              "      <td>166</td>\n",
              "      <td>42</td>\n",
              "      <td>1</td>\n",
              "      <td>2.15</td>\n",
              "      <td>9.5</td>\n",
              "      <td>0.5</td>\n",
              "      <td>0.5</td>\n",
              "      <td>2.16</td>\n",
              "      <td>0.0</td>\n",
              "      <td>NaN</td>\n",
              "      <td>0.3</td>\n",
              "      <td>12.96</td>\n",
              "      <td>1</td>\n",
              "      <td>1</td>\n",
              "    </tr>\n",
              "  </tbody>\n",
              "</table>\n",
              "</div>"
            ],
            "text/plain": [
              "   VendorID lpep_pickup_datetime  ... payment_type trip_type\n",
              "0         2  2016-12-01 00:00:54  ...            2         1\n",
              "1         2  2016-12-01 00:52:41  ...            1         1\n",
              "2         2  2016-12-01 00:10:39  ...            1         1\n",
              "3         2  2016-12-01 00:12:16  ...            1         1\n",
              "4         2  2016-12-01 00:29:22  ...            1         1\n",
              "\n",
              "[5 rows x 19 columns]"
            ]
          },
          "metadata": {
            "tags": []
          },
          "execution_count": 6
        }
      ]
    },
    {
      "cell_type": "code",
      "metadata": {
        "id": "6P8l-QVGRL3G",
        "colab_type": "code",
        "colab": {
          "base_uri": "https://localhost:8080/",
          "height": 317
        },
        "outputId": "cc052baf-af6c-4e2d-eee2-24d6d76b3a3d"
      },
      "source": [
        "df.describe() #s"
      ],
      "execution_count": 7,
      "outputs": [
        {
          "output_type": "execute_result",
          "data": {
            "text/html": [
              "<div>\n",
              "<style scoped>\n",
              "    .dataframe tbody tr th:only-of-type {\n",
              "        vertical-align: middle;\n",
              "    }\n",
              "\n",
              "    .dataframe tbody tr th {\n",
              "        vertical-align: top;\n",
              "    }\n",
              "\n",
              "    .dataframe thead th {\n",
              "        text-align: right;\n",
              "    }\n",
              "</style>\n",
              "<table border=\"1\" class=\"dataframe\">\n",
              "  <thead>\n",
              "    <tr style=\"text-align: right;\">\n",
              "      <th></th>\n",
              "      <th>VendorID</th>\n",
              "      <th>RatecodeID</th>\n",
              "      <th>PULocationID</th>\n",
              "      <th>DOLocationID</th>\n",
              "      <th>passenger_count</th>\n",
              "      <th>trip_distance</th>\n",
              "      <th>fare_amount</th>\n",
              "      <th>extra</th>\n",
              "      <th>mta_tax</th>\n",
              "      <th>tip_amount</th>\n",
              "      <th>tolls_amount</th>\n",
              "      <th>ehail_fee</th>\n",
              "      <th>improvement_surcharge</th>\n",
              "      <th>total_amount</th>\n",
              "      <th>payment_type</th>\n",
              "      <th>trip_type</th>\n",
              "    </tr>\n",
              "  </thead>\n",
              "  <tbody>\n",
              "    <tr>\n",
              "      <th>count</th>\n",
              "      <td>1.224158e+06</td>\n",
              "      <td>1.224158e+06</td>\n",
              "      <td>1.224158e+06</td>\n",
              "      <td>1.224158e+06</td>\n",
              "      <td>1.224158e+06</td>\n",
              "      <td>1.224158e+06</td>\n",
              "      <td>1.224158e+06</td>\n",
              "      <td>1.224158e+06</td>\n",
              "      <td>1.224158e+06</td>\n",
              "      <td>1.224158e+06</td>\n",
              "      <td>1.224158e+06</td>\n",
              "      <td>0.0</td>\n",
              "      <td>1.224158e+06</td>\n",
              "      <td>1.224158e+06</td>\n",
              "      <td>1.224158e+06</td>\n",
              "      <td>1.224158e+06</td>\n",
              "    </tr>\n",
              "    <tr>\n",
              "      <th>mean</th>\n",
              "      <td>1.799278e+00</td>\n",
              "      <td>1.085079e+00</td>\n",
              "      <td>1.131729e+02</td>\n",
              "      <td>1.290862e+02</td>\n",
              "      <td>1.362447e+00</td>\n",
              "      <td>2.618179e+00</td>\n",
              "      <td>1.159368e+01</td>\n",
              "      <td>3.629562e-01</td>\n",
              "      <td>4.872578e-01</td>\n",
              "      <td>1.128787e+00</td>\n",
              "      <td>9.456725e-02</td>\n",
              "      <td>NaN</td>\n",
              "      <td>2.925184e-01</td>\n",
              "      <td>1.399902e+01</td>\n",
              "      <td>1.534862e+00</td>\n",
              "      <td>1.019722e+00</td>\n",
              "    </tr>\n",
              "    <tr>\n",
              "      <th>std</th>\n",
              "      <td>4.005404e-01</td>\n",
              "      <td>5.660195e-01</td>\n",
              "      <td>7.628387e+01</td>\n",
              "      <td>7.723367e+01</td>\n",
              "      <td>1.036924e+00</td>\n",
              "      <td>2.806160e+00</td>\n",
              "      <td>9.793499e+00</td>\n",
              "      <td>3.901575e-01</td>\n",
              "      <td>8.517500e-02</td>\n",
              "      <td>2.216306e+00</td>\n",
              "      <td>8.808537e-01</td>\n",
              "      <td>NaN</td>\n",
              "      <td>5.072935e-02</td>\n",
              "      <td>1.112872e+01</td>\n",
              "      <td>5.240995e-01</td>\n",
              "      <td>1.390438e-01</td>\n",
              "    </tr>\n",
              "    <tr>\n",
              "      <th>min</th>\n",
              "      <td>1.000000e+00</td>\n",
              "      <td>1.000000e+00</td>\n",
              "      <td>1.000000e+00</td>\n",
              "      <td>1.000000e+00</td>\n",
              "      <td>0.000000e+00</td>\n",
              "      <td>0.000000e+00</td>\n",
              "      <td>-4.990000e+02</td>\n",
              "      <td>-4.500000e+00</td>\n",
              "      <td>-5.000000e-01</td>\n",
              "      <td>-1.056000e+01</td>\n",
              "      <td>-8.540000e+00</td>\n",
              "      <td>NaN</td>\n",
              "      <td>-3.000000e-01</td>\n",
              "      <td>-4.990000e+02</td>\n",
              "      <td>1.000000e+00</td>\n",
              "      <td>1.000000e+00</td>\n",
              "    </tr>\n",
              "    <tr>\n",
              "      <th>25%</th>\n",
              "      <td>2.000000e+00</td>\n",
              "      <td>1.000000e+00</td>\n",
              "      <td>4.900000e+01</td>\n",
              "      <td>6.100000e+01</td>\n",
              "      <td>1.000000e+00</td>\n",
              "      <td>9.800000e-01</td>\n",
              "      <td>6.000000e+00</td>\n",
              "      <td>0.000000e+00</td>\n",
              "      <td>5.000000e-01</td>\n",
              "      <td>0.000000e+00</td>\n",
              "      <td>0.000000e+00</td>\n",
              "      <td>NaN</td>\n",
              "      <td>3.000000e-01</td>\n",
              "      <td>7.800000e+00</td>\n",
              "      <td>1.000000e+00</td>\n",
              "      <td>1.000000e+00</td>\n",
              "    </tr>\n",
              "    <tr>\n",
              "      <th>50%</th>\n",
              "      <td>2.000000e+00</td>\n",
              "      <td>1.000000e+00</td>\n",
              "      <td>8.300000e+01</td>\n",
              "      <td>1.290000e+02</td>\n",
              "      <td>1.000000e+00</td>\n",
              "      <td>1.700000e+00</td>\n",
              "      <td>9.000000e+00</td>\n",
              "      <td>5.000000e-01</td>\n",
              "      <td>5.000000e-01</td>\n",
              "      <td>0.000000e+00</td>\n",
              "      <td>0.000000e+00</td>\n",
              "      <td>NaN</td>\n",
              "      <td>3.000000e-01</td>\n",
              "      <td>1.080000e+01</td>\n",
              "      <td>2.000000e+00</td>\n",
              "      <td>1.000000e+00</td>\n",
              "    </tr>\n",
              "    <tr>\n",
              "      <th>75%</th>\n",
              "      <td>2.000000e+00</td>\n",
              "      <td>1.000000e+00</td>\n",
              "      <td>1.730000e+02</td>\n",
              "      <td>1.930000e+02</td>\n",
              "      <td>1.000000e+00</td>\n",
              "      <td>3.200000e+00</td>\n",
              "      <td>1.400000e+01</td>\n",
              "      <td>5.000000e-01</td>\n",
              "      <td>5.000000e-01</td>\n",
              "      <td>1.860000e+00</td>\n",
              "      <td>0.000000e+00</td>\n",
              "      <td>NaN</td>\n",
              "      <td>3.000000e-01</td>\n",
              "      <td>1.656000e+01</td>\n",
              "      <td>2.000000e+00</td>\n",
              "      <td>1.000000e+00</td>\n",
              "    </tr>\n",
              "    <tr>\n",
              "      <th>max</th>\n",
              "      <td>2.000000e+00</td>\n",
              "      <td>6.000000e+00</td>\n",
              "      <td>2.650000e+02</td>\n",
              "      <td>2.650000e+02</td>\n",
              "      <td>9.000000e+00</td>\n",
              "      <td>1.475000e+02</td>\n",
              "      <td>1.007000e+03</td>\n",
              "      <td>4.500000e+00</td>\n",
              "      <td>5.000000e-01</td>\n",
              "      <td>2.507000e+02</td>\n",
              "      <td>2.979800e+02</td>\n",
              "      <td>NaN</td>\n",
              "      <td>3.000000e-01</td>\n",
              "      <td>1.008300e+03</td>\n",
              "      <td>5.000000e+00</td>\n",
              "      <td>2.000000e+00</td>\n",
              "    </tr>\n",
              "  </tbody>\n",
              "</table>\n",
              "</div>"
            ],
            "text/plain": [
              "           VendorID    RatecodeID  ...  payment_type     trip_type\n",
              "count  1.224158e+06  1.224158e+06  ...  1.224158e+06  1.224158e+06\n",
              "mean   1.799278e+00  1.085079e+00  ...  1.534862e+00  1.019722e+00\n",
              "std    4.005404e-01  5.660195e-01  ...  5.240995e-01  1.390438e-01\n",
              "min    1.000000e+00  1.000000e+00  ...  1.000000e+00  1.000000e+00\n",
              "25%    2.000000e+00  1.000000e+00  ...  1.000000e+00  1.000000e+00\n",
              "50%    2.000000e+00  1.000000e+00  ...  2.000000e+00  1.000000e+00\n",
              "75%    2.000000e+00  1.000000e+00  ...  2.000000e+00  1.000000e+00\n",
              "max    2.000000e+00  6.000000e+00  ...  5.000000e+00  2.000000e+00\n",
              "\n",
              "[8 rows x 16 columns]"
            ]
          },
          "metadata": {
            "tags": []
          },
          "execution_count": 7
        }
      ]
    },
    {
      "cell_type": "markdown",
      "metadata": {
        "id": "w7b4zQCSnIht",
        "colab_type": "text"
      },
      "source": [
        "#Data Cleansing and Transformations\n",
        "In this section we are going to perform following activities:\n",
        "\n",
        "o Identify fill rate for each column and drop any column where no values are populated\n",
        "\n",
        "o Identify Data Types of all remaining columns and convert data types of required columns\n",
        "\n",
        "o Generate new columns required for visualization and modeling purposed\n",
        "\n",
        "\n"
      ]
    },
    {
      "cell_type": "code",
      "metadata": {
        "id": "axxSNxKPexcf",
        "colab_type": "code",
        "colab": {}
      },
      "source": [
        "#identify what is the fill rate for each column\n",
        "df.count()"
      ],
      "execution_count": 0,
      "outputs": []
    },
    {
      "cell_type": "code",
      "metadata": {
        "id": "u2BYI2HoIRTA",
        "colab_type": "code",
        "colab": {}
      },
      "source": [
        "#DROPPING COLUMNS\n",
        "#after running the count command above  we can see that all columns are completely filled except ehail_fee, we will remove this column from our data frame.\n",
        "df=df.drop(columns='ehail_fee')\n"
      ],
      "execution_count": 0,
      "outputs": []
    },
    {
      "cell_type": "code",
      "metadata": {
        "id": "zHwJu4CLolHE",
        "colab_type": "code",
        "colab": {}
      },
      "source": [
        "#Now lets see what is our dataframe shape, i.e., we will identify number of rows and total column in our dataframe\n",
        "df.shape"
      ],
      "execution_count": 0,
      "outputs": []
    },
    {
      "cell_type": "code",
      "metadata": {
        "id": "5sS-F5hIKb10",
        "colab_type": "code",
        "colab": {}
      },
      "source": [
        "#DATA TYPES - Identify Data Types of all columns in dataframe and determine if any column need to change\n",
        "df.dtypes\n",
        "#Pickup and Droppoff columns are of object data type, for our case we will convert these columns to datetime."
      ],
      "execution_count": 0,
      "outputs": []
    },
    {
      "cell_type": "code",
      "metadata": {
        "id": "L-O0MhqGnDIo",
        "colab_type": "code",
        "colab": {}
      },
      "source": [
        "#TRANSFORMING AND ADDING COLUMNS\n",
        "\n",
        "df['lpep_pickup_datetime']=pd.to_datetime(df['lpep_pickup_datetime']) # Convert pickup object to datetime\n",
        "df['lpep_dropoff_datetime']=pd.to_datetime(df['lpep_dropoff_datetime']) # Convert dropoff object to datetime\n",
        "df['pickup_day']=df['lpep_pickup_datetime'].dt.day_name() #Get day name when pickup happened\n",
        "df['dropoff_day']=df['lpep_dropoff_datetime'].dt.day_name() #Get day name when drop-off happened\n",
        "df['trip_duration']=(df['lpep_dropoff_datetime'] - df['lpep_pickup_datetime'])/np.timedelta64(1,'s') #Get Trip Duration\n",
        "df['pickup_hour']=df['lpep_pickup_datetime'].dt.hour #Pickup hour\n",
        "df['dropoff_hour']=df['lpep_dropoff_datetime'].dt.hour #Pickup hour\n",
        "\n",
        "\n",
        "#Code to break trip in different day times\n",
        "def timezone(x):\n",
        "    if x>=datetime.time(4, 0, 1) and x <=datetime.time(7, 0, 0):\n",
        "        return 'Early Morning'\n",
        "    elif x>=datetime.time(7, 0, 1) and x <=datetime.time(10, 0, 0):\n",
        "        return 'Morning'    \n",
        "    elif x>=datetime.time(10, 0, 1) and x <=datetime.time(16, 0, 0):\n",
        "        return 'Daytime'\n",
        "    elif x>=datetime.time(16, 0, 1) and x <=datetime.time(22, 0, 0):\n",
        "        return 'Evening'\n",
        "    elif x>=datetime.time(22, 0, 1) or x <=datetime.time(4, 0, 0):\n",
        "        return 'Late Night'\n",
        "    \n",
        "df['pickup_daypart']=df['lpep_pickup_datetime'].apply(lambda x :timezone(datetime.datetime.strptime(str(x), \"%Y-%m-%d %H:%M:%S\").time()) )\n",
        "df['dropoff_daypart']=df['lpep_dropoff_datetime'].apply(lambda x :timezone(datetime.datetime.strptime(str(x), \"%Y-%m-%d %H:%M:%S\").time()) )\n",
        "\n",
        "bins=np.array([0,1800,3600,5400,7200,90000])\n",
        "df['duration_period']=pd.cut(df.trip_duration,bins,labels=[\"0-5\", \"5-10\", \"10-15\",\"15-20\",\">20\"])"
      ],
      "execution_count": 0,
      "outputs": []
    },
    {
      "cell_type": "code",
      "metadata": {
        "id": "HvYOzEFYNQDr",
        "colab_type": "code",
        "colab": {}
      },
      "source": [
        "df['pickup_day'].value_counts() #This command result shows when most picks are taken, by look of data, most trips are taken on Friday and Saturday"
      ],
      "execution_count": 0,
      "outputs": []
    },
    {
      "cell_type": "code",
      "metadata": {
        "id": "_-p0tS7prHft",
        "colab_type": "code",
        "colab": {}
      },
      "source": [
        "df['dropoff_day'].value_counts()"
      ],
      "execution_count": 0,
      "outputs": []
    },
    {
      "cell_type": "markdown",
      "metadata": {
        "id": "e4W0JTfar5bS",
        "colab_type": "text"
      },
      "source": [
        "#Data Visualizations\n",
        "\n",
        "Following maps were plotted:\n",
        "\n",
        "o Total Pickup's and dropoff's during each day of week\n",
        "\n",
        "o Total Pickup's and dropoff's during 24 hour window (morning, evening, etc.)\n",
        "\n",
        "o Average Tips during a day\n",
        "\n",
        "o Trip Duration charts\n",
        "\n",
        "o Trip Distance histogram\n",
        "\n",
        "\n"
      ]
    },
    {
      "cell_type": "code",
      "metadata": {
        "id": "fDI0rmVfvD_a",
        "colab_type": "code",
        "colab": {}
      },
      "source": [
        "#PLOTS OF DATA ON SINGLE VARIABLE\n",
        "#Plot 1: Showing pickups/dropoffs on each day of the week\n",
        "figure,ax=plt.subplots(nrows=1,ncols=2,figsize=(12,6))\n",
        "sns.countplot(x='pickup_day',data=df,ax=ax[0])\n",
        "ax[0].set_title('Total Pickups')\n",
        "sns.countplot(x='dropoff_day',data=df,ax=ax[1])\n",
        "ax[1].set_title('Total DropOffs')\n",
        "plt.tight_layout()\n",
        "\n",
        "#Plot clearly shows that on Saturday and Friday there is jump in pickups and dropoffs in comparison to rest of the week. "
      ],
      "execution_count": 0,
      "outputs": []
    },
    {
      "cell_type": "code",
      "metadata": {
        "id": "DGacLMD7rj5b",
        "colab_type": "code",
        "colab": {}
      },
      "source": [
        "#Plot 2: Showing Pickups/Dropoff's during a day (Early Morning, Morning, Normal Hours, Eveining, and Late Night ) \n",
        "figure,ax=plt.subplots(nrows=1,ncols=2,figsize=(12,6))\n",
        "sns.countplot(x='pickup_daypart',data=df,ax=ax[0])\n",
        "ax[0].set_title('Total Pickups')\n",
        "sns.countplot(x='dropoff_daypart',data=df,ax=ax[1])\n",
        "ax[1].set_title('Total DropOffs')\n",
        "plt.tight_layout()\n",
        "# Plot is clearly showing that there is high pickups/dropoffs duing evening hours followed by Daytime hours."
      ],
      "execution_count": 0,
      "outputs": []
    },
    {
      "cell_type": "code",
      "metadata": {
        "id": "GiR3MM3t-8QF",
        "colab_type": "code",
        "colab": {
          "base_uri": "https://localhost:8080/",
          "height": 407
        },
        "outputId": "aaf5fff6-7c9d-444b-b32c-383aa7f9f33d"
      },
      "source": [
        "#plot 3: Another representation of pickups and dropoff's during 24 hour window\n",
        "figure,ax=plt.subplots(nrows=1,ncols=2,figsize=(12,6))\n",
        "df.pickup_hour.hist(bins=24,ax=ax[0])\n",
        "ax[0].set_title('Hourly Distributions on Pickups')\n",
        "df.dropoff_hour.hist(bins=24,ax=ax[1])\n",
        "ax[1].set_title('Hourly Distributions on Dropoffs')\n",
        "\n",
        "# We can clearly see that more pickup's/dropoff's happens during evening hours"
      ],
      "execution_count": 140,
      "outputs": [
        {
          "output_type": "execute_result",
          "data": {
            "text/plain": [
              "Text(0.5, 1.0, 'Hourly Distributions on Dropoffs')"
            ]
          },
          "metadata": {
            "tags": []
          },
          "execution_count": 140
        },
        {
          "output_type": "display_data",
          "data": {
            "image/png": "[encoded data removed]",
            "text/plain": [
              "<Figure size 864x432 with 2 Axes>"
            ]
          },
          "metadata": {
            "tags": [],
            "needs_background": "light"
          }
        }
      ]
    },
    {
      "cell_type": "code",
      "metadata": {
        "id": "jIbMUS6P_ivZ",
        "colab_type": "code",
        "colab": {}
      },
      "source": [
        "#plot 4: Average Tip Amounts during 24 hour window\n",
        "sns.catplot(x='pickup_hour',y='tip_amount',kind=\"bar\",data=df,height=6,aspect=1)\n",
        "plt.title('Average Tip Amount during the day (Pickup)')\n",
        "sns.catplot(x='dropoff_hour',y='tip_amount',kind=\"bar\",data=df,height=6,aspect=1)\n",
        "plt.title('Average Tip Amount during the day (Dropoff)')\n",
        "\n",
        "#Analysis: Although morning hours have higher average tips but looking at plot 1, 2, and 3 we can safely say that mornign hours has lower count of passengers "
      ],
      "execution_count": 0,
      "outputs": []
    },
    {
      "cell_type": "code",
      "metadata": {
        "id": "6UBK5e2GLBal",
        "colab_type": "code",
        "colab": {}
      },
      "source": [
        "#plot 5: Trip durations on day of week\n",
        "figure,ax=plt.subplots(nrows=1,ncols=3,figsize=(15,5))\n",
        "ax1=df[(df.duration_period !=\"< 5\")].groupby('pickup_day')['duration_period'].count()\n",
        "ax1.plot(kind='bar',ax=ax[0])\n",
        "ax[0].set_title('Distribution of trips > 5 hours')\n",
        "ax2=df[(df.duration_period !=\"< 5\")].groupby('pickup_day')['duration_period'].value_counts(normalize=True).unstack()\n",
        "ax2.plot(kind='bar', stacked='True',ax=ax[1])\n",
        "ax[1].set_title('Percentage distribution of trips')\n",
        "ax3=df[(df.duration_period !=\"< 5\")].groupby('pickup_day')['duration_period'].value_counts().unstack()\n",
        "ax3.plot(kind='bar',ax=ax[2])\n",
        "ax[2].set_title('Distribution of trips')\n",
        "\n",
        "# Here we can see that longer trips are happening on Saturdays, majority of trips are under 5 hours"
      ],
      "execution_count": 0,
      "outputs": []
    },
    {
      "cell_type": "code",
      "metadata": {
        "id": "hs4_Fdc4O5AH",
        "colab_type": "code",
        "colab": {}
      },
      "source": [
        "#plot 6: Trip Distance to Trip Duration\n",
        "sns.catplot(x='trip_distance',y='duration_period',kind=\"bar\",data=df,height=6,aspect=1)\n",
        "plt.title('Trip Distance to Trip Length')\n",
        "\n",
        "# Longer the distance greater the distance, whereas we can sense there are outliers in >20 result set where results appear to be off."
      ],
      "execution_count": 0,
      "outputs": []
    },
    {
      "cell_type": "code",
      "metadata": {
        "id": "DvULq12ILBKV",
        "colab_type": "code",
        "colab": {}
      },
      "source": [
        "#plot 7: Trip distance histogram, chart1\n",
        "plt.figure(figsize=[20,2])\n",
        "sns.boxplot(df['trip_distance'])"
      ],
      "execution_count": 0,
      "outputs": []
    },
    {
      "cell_type": "code",
      "metadata": {
        "id": "cpHN8TS4_9FX",
        "colab_type": "code",
        "colab": {}
      },
      "source": [
        "# plot 8: Trip Distance histogram, Chart 2 \n",
        "sns.distplot(trip_dis) \n",
        "sns.distplot(trip_dis[trip_dis <=30.0])\n",
        "\n",
        "\n",
        "plt.figure(2)\n",
        "plt.hist(trip_dis[trip_dis <=30.0],bins=20)\n",
        "plt.title(\"Trip Distance Histgram\")\n",
        "plt.xlabel(\"Total Distance\")\n",
        "plt.ylabel(\"Number of Trips\")\n"
      ],
      "execution_count": 0,
      "outputs": []
    },
    {
      "cell_type": "markdown",
      "metadata": {
        "id": "hyJYxniLCB4r",
        "colab_type": "text"
      },
      "source": [
        "#Trip Statistics\n",
        "\n",
        "Here we did some outlier cleansing and identified median and mean of trips by hour. Plot graph and counts are represented at the end of this section.\n"
      ]
    },
    {
      "cell_type": "code",
      "metadata": {
        "id": "6iVudjEyrjP0",
        "colab_type": "code",
        "colab": {}
      },
      "source": [
        "print('The value of largest 5 trip duration values are as follows : \\n {} '.format(df['trip_duration'].nlargest(5)))\n",
        "print('The the number of rows with 1 as their trip duration values is {}'.format(len(df[df['trip_duration']==1 ])))\n"
      ],
      "execution_count": 0,
      "outputs": []
    },
    {
      "cell_type": "code",
      "metadata": {
        "id": "8QwfSfZqLeyb",
        "colab_type": "code",
        "colab": {}
      },
      "source": [
        "df[df.trip_duration!=df.trip_duration.max()]\n",
        "df[df.trip_duration!=df.trip_duration.min()]\n"
      ],
      "execution_count": 0,
      "outputs": []
    },
    {
      "cell_type": "code",
      "metadata": {
        "id": "tzgkuwlaMF9K",
        "colab_type": "code",
        "colab": {
          "base_uri": "https://localhost:8080/",
          "height": 297
        },
        "outputId": "cd33af6b-fe04-4f4c-bd5c-5bf6ce114037"
      },
      "source": [
        "sns.scatterplot(x='trip_distance',y='trip_duration',data=df)"
      ],
      "execution_count": 131,
      "outputs": [
        {
          "output_type": "execute_result",
          "data": {
            "text/plain": [
              "<matplotlib.axes._subplots.AxesSubplot at 0x7f4221b1b9e8>"
            ]
          },
          "metadata": {
            "tags": []
          },
          "execution_count": 131
        },
        {
          "output_type": "display_data",
          "data": {
            "image/png": "[encoded data removed]",
            "text/plain": [
              "<Figure size 432x288 with 1 Axes>"
            ]
          },
          "metadata": {
            "tags": [],
            "needs_background": "light"
          }
        }
      ]
    },
    {
      "cell_type": "code",
      "metadata": {
        "id": "9B-errzZM4t7",
        "colab_type": "code",
        "colab": {
          "base_uri": "https://localhost:8080/",
          "height": 34
        },
        "outputId": "41afd95b-0d6a-4c58-8aa0-cb639de61379"
      },
      "source": [
        "#In graph above we can see there are several outliers which we need to remove from our dataframe\n",
        "#Lets identify all records where trip_distance is 0\n",
        "print('The no of rows with distance =0 are {}'.format(len(df[df.trip_distance==0])))"
      ],
      "execution_count": 106,
      "outputs": [
        {
          "output_type": "stream",
          "text": [
            "The no of rows with distance =0 are 15183\n"
          ],
          "name": "stdout"
        }
      ]
    },
    {
      "cell_type": "code",
      "metadata": {
        "id": "3JQgYRbSNLlo",
        "colab_type": "code",
        "colab": {}
      },
      "source": [
        "#instead of dropping these rows we will replace these zero results with average distance\n",
        "mean_dist=df['trip_distance'].mean()\n",
        "df.loc[df['trip_distance']==0,'trip_distance']=mean_dist"
      ],
      "execution_count": 0,
      "outputs": []
    },
    {
      "cell_type": "code",
      "metadata": {
        "id": "nVQkoet9eHAa",
        "colab_type": "code",
        "colab": {
          "base_uri": "https://localhost:8080/",
          "height": 331
        },
        "outputId": "7441b253-c88c-47a7-9d44-376a2c50f098"
      },
      "source": [
        "df['trip_distance']=np.log(df.trip_distance)\n",
        "df['trip_duration']=np.log(df.trip_duration)\n",
        "\n",
        "sns.scatterplot(x='trip_distance',y='trip_duration',data=df)"
      ],
      "execution_count": 136,
      "outputs": [
        {
          "output_type": "stream",
          "text": [
            "/usr/local/lib/python3.6/dist-packages/pandas/core/series.py:679: RuntimeWarning: divide by zero encountered in log\n",
            "  result = getattr(ufunc, method)(*inputs, **kwargs)\n"
          ],
          "name": "stderr"
        },
        {
          "output_type": "execute_result",
          "data": {
            "text/plain": [
              "<matplotlib.axes._subplots.AxesSubplot at 0x7f42219ee9b0>"
            ]
          },
          "metadata": {
            "tags": []
          },
          "execution_count": 136
        },
        {
          "output_type": "display_data",
          "data": {
            "image/png": "[encoded data removed]",
            "text/plain": [
              "<Figure size 432x288 with 1 Axes>"
            ]
          },
          "metadata": {
            "tags": [],
            "needs_background": "light"
          }
        }
      ]
    },
    {
      "cell_type": "code",
      "metadata": {
        "id": "ee8oTesbOxIo",
        "colab_type": "code",
        "colab": {
          "base_uri": "https://localhost:8080/",
          "height": 350
        },
        "outputId": "6dc52d1e-154e-4345-b67f-041090cc90d6"
      },
      "source": [
        "# Mean and Median of trip distance by pickup hour Chart\n",
        "fig,ax = plt.subplots(1,1,figsize=(9,5)) # prepare fig to plot mean and median values\n",
        "# use a pivot table to aggregate Trip_distance by hour\n",
        "table1 = df.pivot_table(index='pickup_hour', values='trip_distance',aggfunc=('mean','median')).reset_index()\n",
        "# rename columns\n",
        "table1.columns = ['Hour','Mean_distance','Median_distance']\n",
        "table1[['Mean_distance','Median_distance']].plot(ax=ax)\n",
        "plt.ylabel('Metric (miles)')\n",
        "plt.xlabel('Hours')\n",
        "plt.title('Distribution of trip distance by pickup hour')\n",
        "plt.xlim([0,23])\n",
        "plt.show()\n",
        "#print '-----Trip distance by hour of the day-----\\n'\n",
        "#print tabulate(table1.values.tolist(),[\"Hour\",\"Mean_distance\",\"Median_distance\"])"
      ],
      "execution_count": 146,
      "outputs": [
        {
          "output_type": "display_data",
          "data": {
            "image/png": "[encoded data removed]",
            "text/plain": [
              "<Figure size 648x360 with 1 Axes>"
            ]
          },
          "metadata": {
            "tags": [],
            "needs_background": "light"
          }
        }
      ]
    },
    {
      "cell_type": "code",
      "metadata": {
        "id": "BDwoushQTeko",
        "colab_type": "code",
        "colab": {}
      },
      "source": [
        "table1.describe()\n"
      ],
      "execution_count": 0,
      "outputs": []
    },
    {
      "cell_type": "code",
      "metadata": {
        "id": "EKicDS7PZyle",
        "colab_type": "code",
        "colab": {}
      },
      "source": [
        "df.groupby('pickup_hour')['tip_amount','total_amount', 'trip_distance'].mean()"
      ],
      "execution_count": 0,
      "outputs": []
    },
    {
      "cell_type": "markdown",
      "metadata": {
        "id": "Hc__2KFMWqKn",
        "colab_type": "text"
      },
      "source": [
        "#Data Model\n"
      ]
    },
    {
      "cell_type": "code",
      "metadata": {
        "id": "hDoIcq8CTq4s",
        "colab_type": "code",
        "colab": {}
      },
      "source": [
        "df.head()"
      ],
      "execution_count": 0,
      "outputs": []
    },
    {
      "cell_type": "code",
      "metadata": {
        "id": "WtVkMtqZdfdL",
        "colab_type": "code",
        "colab": {}
      },
      "source": [
        "df.describe()"
      ],
      "execution_count": 0,
      "outputs": []
    },
    {
      "cell_type": "code",
      "metadata": {
        "id": "1n17UsxqqUqh",
        "colab_type": "code",
        "colab": {}
      },
      "source": [
        "#Clean your dataframe by leaving only int, float, boolean\n",
        "df1=df.drop(['lpep_pickup_datetime','store_and_fwd_flag','lpep_dropoff_datetime','pickup_day','dropoff_day','pickup_daypart','dropoff_daypart','duration_period'],axis=1)\n",
        "df.describe()\n",
        "df0=df1[df1['trip_type'].notnull() & df1['tip_amount'].notnull()]#remove NaN observations\n"
      ],
      "execution_count": 0,
      "outputs": []
    },
    {
      "cell_type": "code",
      "metadata": {
        "id": "lhDotxemq9Fa",
        "colab_type": "code",
        "colab": {}
      },
      "source": [
        "df0.head()\n",
        "df0.dtypes #check data types again\n"
      ],
      "execution_count": 0,
      "outputs": []
    },
    {
      "cell_type": "code",
      "metadata": {
        "id": "CIIdwKlAh7DM",
        "colab_type": "code",
        "colab": {}
      },
      "source": [
        "#Build the model\n",
        "#change data the numbers to categorical\n",
        "factor=['VendorID','RatecodeID','payment_type','passenger_count','trip_type','trip_duration']\n",
        "for variable in factor:\n",
        "    dummies = pd.get_dummies(df0[factor], prefix = variable)\n",
        "    df1= pd.concat([df0, dummies],axis=1)\n",
        "    df1.drop([variable], axis=1, inplace=True)\n",
        "\n",
        "Tips= df1['tip_amount']          #only y\n",
        "df2=df1.drop(['tip_amount'],axis=1) #all the x\n",
        "X_train,X_test,Y_train,Y_test = train_test_split(df2,Tips,test_size=0.20)\n"
      ],
      "execution_count": 0,
      "outputs": []
    },
    {
      "cell_type": "code",
      "metadata": {
        "id": "NfMhLJdejUve",
        "colab_type": "code",
        "colab": {
          "base_uri": "https://localhost:8080/",
          "height": 85
        },
        "outputId": "8fda3ceb-9df7-4786-ee1a-a655a1bb5bee"
      },
      "source": [
        "# Check shape\n",
        "print(X_train.shape)\n",
        "print(X_test.shape)\n",
        "print(Y_train.shape)\n",
        "print(Y_test.shape)"
      ],
      "execution_count": 192,
      "outputs": [
        {
          "output_type": "stream",
          "text": [
            "(979326, 21)\n",
            "(244832, 21)\n",
            "(979326,)\n",
            "(244832,)\n"
          ],
          "name": "stdout"
        }
      ]
    },
    {
      "cell_type": "code",
      "metadata": {
        "id": "FasTTqWBilFf",
        "colab_type": "code",
        "colab": {
          "base_uri": "https://localhost:8080/",
          "height": 374
        },
        "outputId": "084e3ae3-f4c4-42cc-eb65-b7b93a310f6a"
      },
      "source": [
        "#Train your model\n",
        "gbr=GBR(loss='ls', learning_rate=0.1, n_estimators=100, subsample=1, max_depth =6, verbose =1)\n",
        "est=gbr.fit(X_train,Y_train)\n",
        "#prediction experiment\n",
        "y_test_pred=est.predict(X_test)\n",
        "mean_squared_error(y_test_pred,Y_test)\n"
      ],
      "execution_count": 194,
      "outputs": [
        {
          "output_type": "stream",
          "text": [
            "      Iter       Train Loss   Remaining Time \n",
            "         1           4.1896            5.16m\n",
            "         2           3.5823            5.02m\n",
            "         3           3.0857            4.97m\n",
            "         4           2.6804            4.89m\n",
            "         5           2.3402            4.84m\n",
            "         6           2.0619            4.79m\n",
            "         7           1.8271            4.74m\n",
            "         8           1.6249            4.68m\n",
            "         9           1.4571            4.63m\n",
            "        10           1.3222            4.59m\n",
            "        20           0.6794            4.38m\n",
            "        30           0.4691            4.08m\n",
            "        40           0.3423            3.65m\n",
            "        50           0.2737            3.14m\n",
            "        60           0.2271            2.55m\n",
            "        70           0.1917            1.93m\n",
            "        80           0.1616            1.30m\n",
            "        90           0.1408           39.20s\n",
            "       100           0.1251            0.00s\n"
          ],
          "name": "stdout"
        },
        {
          "output_type": "execute_result",
          "data": {
            "text/plain": [
              "0.18664933630745656"
            ]
          },
          "metadata": {
            "tags": []
          },
          "execution_count": 194
        }
      ]
    },
    {
      "cell_type": "code",
      "metadata": {
        "id": "F7TPpTSjjkIV",
        "colab_type": "code",
        "colab": {
          "base_uri": "https://localhost:8080/",
          "height": 296
        },
        "outputId": "e3f61f11-808f-4387-8bd1-a8f389916139"
      },
      "source": [
        "#plot the train loss vs. iteration\n",
        "n = np.arange(100)+1\n",
        "plt.plot(n, est.train_score_,'r-')\n",
        "plt.ylabel('Training Loss')\n",
        "plt.xlabel('Iteration')"
      ],
      "execution_count": 195,
      "outputs": [
        {
          "output_type": "execute_result",
          "data": {
            "text/plain": [
              "Text(0.5, 0, 'Iteration')"
            ]
          },
          "metadata": {
            "tags": []
          },
          "execution_count": 195
        },
        {
          "output_type": "display_data",
          "data": {
            "image/png": "[encoded data removed]",
            "text/plain": [
              "<Figure size 432x288 with 1 Axes>"
            ]
          },
          "metadata": {
            "tags": [],
            "needs_background": "light"
          }
        }
      ]
    },
    {
      "cell_type": "code",
      "metadata": {
        "id": "-LMJSq3ZuYmN",
        "colab_type": "code",
        "colab": {}
      },
      "source": [
        "#Lowest mean quare is 0.1866\n",
        "#Cross-validation and greed search could be used to tune the parameters in the GradientBoostingRegressor model."
      ],
      "execution_count": 0,
      "outputs": []
    },
    {
      "cell_type": "code",
      "metadata": {
        "id": "v9LtOGwkuig7",
        "colab_type": "code",
        "colab": {}
      },
      "source": [
        ""
      ],
      "execution_count": 0,
      "outputs": []
    }
  ]
}